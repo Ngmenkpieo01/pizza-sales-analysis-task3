{
 "cells": [
  {
   "cell_type": "markdown",
   "id": "b6796dc2-831f-4ce2-b7a6-1b78ba27ad79",
   "metadata": {},
   "source": [
    "#   Task 3: 💻 Pizza sales analysis"
   ]
  },
  {
   "cell_type": "markdown",
   "id": "04492025-9743-430c-9f08-740f9f49fa64",
   "metadata": {},
   "source": [
    "## Loading of the four CSV files"
   ]
  },
  {
   "cell_type": "code",
   "execution_count": 27,
   "id": "34e9f815-e052-412d-a1a3-8cb2ffe0f2bc",
   "metadata": {},
   "outputs": [],
   "source": [
    "import pandas as pd # importing pandas\n",
    "\n",
    "import matplotlib.pyplot as plt # importing matplotlib\n",
    "\n",
    "import seaborn as sns # importing seasborn as sns\n",
    "\n",
    "sns.set(style=\"whitegrid\")\n",
    "\n",
    "orders = pd.read_csv('orders.csv') # importing four csv files\n",
    "order_details = pd.read_csv('order_details.csv')\n",
    "pizzas = pd.read_csv('pizzas.csv')\n",
    "pizza_types = pd.read_csv('pizza_types.csv', encoding='latin1') "
   ]
  },
  {
   "cell_type": "code",
   "execution_count": 2,
   "id": "121ce60a-1cbe-478e-af81-07d459e38a0d",
   "metadata": {},
   "outputs": [
    {
     "data": {
      "text/html": [
       "<div>\n",
       "<style scoped>\n",
       "    .dataframe tbody tr th:only-of-type {\n",
       "        vertical-align: middle;\n",
       "    }\n",
       "\n",
       "    .dataframe tbody tr th {\n",
       "        vertical-align: top;\n",
       "    }\n",
       "\n",
       "    .dataframe thead th {\n",
       "        text-align: right;\n",
       "    }\n",
       "</style>\n",
       "<table border=\"1\" class=\"dataframe\">\n",
       "  <thead>\n",
       "    <tr style=\"text-align: right;\">\n",
       "      <th></th>\n",
       "      <th>order_id</th>\n",
       "      <th>date</th>\n",
       "      <th>time</th>\n",
       "    </tr>\n",
       "  </thead>\n",
       "  <tbody>\n",
       "    <tr>\n",
       "      <th>0</th>\n",
       "      <td>1</td>\n",
       "      <td>2015-01-01</td>\n",
       "      <td>11:38:36</td>\n",
       "    </tr>\n",
       "    <tr>\n",
       "      <th>1</th>\n",
       "      <td>2</td>\n",
       "      <td>2015-01-01</td>\n",
       "      <td>11:57:40</td>\n",
       "    </tr>\n",
       "    <tr>\n",
       "      <th>2</th>\n",
       "      <td>3</td>\n",
       "      <td>2015-01-01</td>\n",
       "      <td>12:12:28</td>\n",
       "    </tr>\n",
       "    <tr>\n",
       "      <th>3</th>\n",
       "      <td>4</td>\n",
       "      <td>2015-01-01</td>\n",
       "      <td>12:16:31</td>\n",
       "    </tr>\n",
       "    <tr>\n",
       "      <th>4</th>\n",
       "      <td>5</td>\n",
       "      <td>2015-01-01</td>\n",
       "      <td>12:21:30</td>\n",
       "    </tr>\n",
       "  </tbody>\n",
       "</table>\n",
       "</div>"
      ],
      "text/plain": [
       "   order_id        date      time\n",
       "0         1  2015-01-01  11:38:36\n",
       "1         2  2015-01-01  11:57:40\n",
       "2         3  2015-01-01  12:12:28\n",
       "3         4  2015-01-01  12:16:31\n",
       "4         5  2015-01-01  12:21:30"
      ]
     },
     "execution_count": 2,
     "metadata": {},
     "output_type": "execute_result"
    }
   ],
   "source": [
    "orders.head() # preview of orders"
   ]
  },
  {
   "cell_type": "code",
   "execution_count": 3,
   "id": "330f3927-243e-4cc0-96c4-41321c7b38d4",
   "metadata": {},
   "outputs": [
    {
     "data": {
      "text/html": [
       "<div>\n",
       "<style scoped>\n",
       "    .dataframe tbody tr th:only-of-type {\n",
       "        vertical-align: middle;\n",
       "    }\n",
       "\n",
       "    .dataframe tbody tr th {\n",
       "        vertical-align: top;\n",
       "    }\n",
       "\n",
       "    .dataframe thead th {\n",
       "        text-align: right;\n",
       "    }\n",
       "</style>\n",
       "<table border=\"1\" class=\"dataframe\">\n",
       "  <thead>\n",
       "    <tr style=\"text-align: right;\">\n",
       "      <th></th>\n",
       "      <th>order_details_id</th>\n",
       "      <th>order_id</th>\n",
       "      <th>pizza_id</th>\n",
       "      <th>quantity</th>\n",
       "    </tr>\n",
       "  </thead>\n",
       "  <tbody>\n",
       "    <tr>\n",
       "      <th>0</th>\n",
       "      <td>1</td>\n",
       "      <td>1</td>\n",
       "      <td>hawaiian_m</td>\n",
       "      <td>1</td>\n",
       "    </tr>\n",
       "    <tr>\n",
       "      <th>1</th>\n",
       "      <td>2</td>\n",
       "      <td>2</td>\n",
       "      <td>classic_dlx_m</td>\n",
       "      <td>1</td>\n",
       "    </tr>\n",
       "    <tr>\n",
       "      <th>2</th>\n",
       "      <td>3</td>\n",
       "      <td>2</td>\n",
       "      <td>five_cheese_l</td>\n",
       "      <td>1</td>\n",
       "    </tr>\n",
       "    <tr>\n",
       "      <th>3</th>\n",
       "      <td>4</td>\n",
       "      <td>2</td>\n",
       "      <td>ital_supr_l</td>\n",
       "      <td>1</td>\n",
       "    </tr>\n",
       "    <tr>\n",
       "      <th>4</th>\n",
       "      <td>5</td>\n",
       "      <td>2</td>\n",
       "      <td>mexicana_m</td>\n",
       "      <td>1</td>\n",
       "    </tr>\n",
       "  </tbody>\n",
       "</table>\n",
       "</div>"
      ],
      "text/plain": [
       "   order_details_id  order_id       pizza_id  quantity\n",
       "0                 1         1     hawaiian_m         1\n",
       "1                 2         2  classic_dlx_m         1\n",
       "2                 3         2  five_cheese_l         1\n",
       "3                 4         2    ital_supr_l         1\n",
       "4                 5         2     mexicana_m         1"
      ]
     },
     "execution_count": 3,
     "metadata": {},
     "output_type": "execute_result"
    }
   ],
   "source": [
    "order_details.head() # preview of order details"
   ]
  },
  {
   "cell_type": "code",
   "execution_count": 4,
   "id": "cde078a8-accf-4336-a11c-f06cf5132d60",
   "metadata": {},
   "outputs": [
    {
     "data": {
      "text/html": [
       "<div>\n",
       "<style scoped>\n",
       "    .dataframe tbody tr th:only-of-type {\n",
       "        vertical-align: middle;\n",
       "    }\n",
       "\n",
       "    .dataframe tbody tr th {\n",
       "        vertical-align: top;\n",
       "    }\n",
       "\n",
       "    .dataframe thead th {\n",
       "        text-align: right;\n",
       "    }\n",
       "</style>\n",
       "<table border=\"1\" class=\"dataframe\">\n",
       "  <thead>\n",
       "    <tr style=\"text-align: right;\">\n",
       "      <th></th>\n",
       "      <th>pizza_id</th>\n",
       "      <th>pizza_type_id</th>\n",
       "      <th>size</th>\n",
       "      <th>price</th>\n",
       "    </tr>\n",
       "  </thead>\n",
       "  <tbody>\n",
       "    <tr>\n",
       "      <th>0</th>\n",
       "      <td>bbq_ckn_s</td>\n",
       "      <td>bbq_ckn</td>\n",
       "      <td>S</td>\n",
       "      <td>12.75</td>\n",
       "    </tr>\n",
       "    <tr>\n",
       "      <th>1</th>\n",
       "      <td>bbq_ckn_m</td>\n",
       "      <td>bbq_ckn</td>\n",
       "      <td>M</td>\n",
       "      <td>16.75</td>\n",
       "    </tr>\n",
       "    <tr>\n",
       "      <th>2</th>\n",
       "      <td>bbq_ckn_l</td>\n",
       "      <td>bbq_ckn</td>\n",
       "      <td>L</td>\n",
       "      <td>20.75</td>\n",
       "    </tr>\n",
       "    <tr>\n",
       "      <th>3</th>\n",
       "      <td>cali_ckn_s</td>\n",
       "      <td>cali_ckn</td>\n",
       "      <td>S</td>\n",
       "      <td>12.75</td>\n",
       "    </tr>\n",
       "    <tr>\n",
       "      <th>4</th>\n",
       "      <td>cali_ckn_m</td>\n",
       "      <td>cali_ckn</td>\n",
       "      <td>M</td>\n",
       "      <td>16.75</td>\n",
       "    </tr>\n",
       "  </tbody>\n",
       "</table>\n",
       "</div>"
      ],
      "text/plain": [
       "     pizza_id pizza_type_id size  price\n",
       "0   bbq_ckn_s       bbq_ckn    S  12.75\n",
       "1   bbq_ckn_m       bbq_ckn    M  16.75\n",
       "2   bbq_ckn_l       bbq_ckn    L  20.75\n",
       "3  cali_ckn_s      cali_ckn    S  12.75\n",
       "4  cali_ckn_m      cali_ckn    M  16.75"
      ]
     },
     "execution_count": 4,
     "metadata": {},
     "output_type": "execute_result"
    }
   ],
   "source": [
    "pizzas.head() # preview of pizzas"
   ]
  },
  {
   "cell_type": "code",
   "execution_count": 5,
   "id": "0faa750d-0bd1-4c20-b7cf-697fafd72785",
   "metadata": {},
   "outputs": [
    {
     "data": {
      "text/html": [
       "<div>\n",
       "<style scoped>\n",
       "    .dataframe tbody tr th:only-of-type {\n",
       "        vertical-align: middle;\n",
       "    }\n",
       "\n",
       "    .dataframe tbody tr th {\n",
       "        vertical-align: top;\n",
       "    }\n",
       "\n",
       "    .dataframe thead th {\n",
       "        text-align: right;\n",
       "    }\n",
       "</style>\n",
       "<table border=\"1\" class=\"dataframe\">\n",
       "  <thead>\n",
       "    <tr style=\"text-align: right;\">\n",
       "      <th></th>\n",
       "      <th>pizza_type_id</th>\n",
       "      <th>name</th>\n",
       "      <th>category</th>\n",
       "      <th>ingredients</th>\n",
       "    </tr>\n",
       "  </thead>\n",
       "  <tbody>\n",
       "    <tr>\n",
       "      <th>0</th>\n",
       "      <td>bbq_ckn</td>\n",
       "      <td>The Barbecue Chicken Pizza</td>\n",
       "      <td>Chicken</td>\n",
       "      <td>Barbecued Chicken, Red Peppers, Green Peppers,...</td>\n",
       "    </tr>\n",
       "    <tr>\n",
       "      <th>1</th>\n",
       "      <td>cali_ckn</td>\n",
       "      <td>The California Chicken Pizza</td>\n",
       "      <td>Chicken</td>\n",
       "      <td>Chicken, Artichoke, Spinach, Garlic, Jalapeno ...</td>\n",
       "    </tr>\n",
       "    <tr>\n",
       "      <th>2</th>\n",
       "      <td>ckn_alfredo</td>\n",
       "      <td>The Chicken Alfredo Pizza</td>\n",
       "      <td>Chicken</td>\n",
       "      <td>Chicken, Red Onions, Red Peppers, Mushrooms, A...</td>\n",
       "    </tr>\n",
       "    <tr>\n",
       "      <th>3</th>\n",
       "      <td>ckn_pesto</td>\n",
       "      <td>The Chicken Pesto Pizza</td>\n",
       "      <td>Chicken</td>\n",
       "      <td>Chicken, Tomatoes, Red Peppers, Spinach, Garli...</td>\n",
       "    </tr>\n",
       "    <tr>\n",
       "      <th>4</th>\n",
       "      <td>southw_ckn</td>\n",
       "      <td>The Southwest Chicken Pizza</td>\n",
       "      <td>Chicken</td>\n",
       "      <td>Chicken, Tomatoes, Red Peppers, Red Onions, Ja...</td>\n",
       "    </tr>\n",
       "  </tbody>\n",
       "</table>\n",
       "</div>"
      ],
      "text/plain": [
       "  pizza_type_id                          name category  \\\n",
       "0       bbq_ckn    The Barbecue Chicken Pizza  Chicken   \n",
       "1      cali_ckn  The California Chicken Pizza  Chicken   \n",
       "2   ckn_alfredo     The Chicken Alfredo Pizza  Chicken   \n",
       "3     ckn_pesto       The Chicken Pesto Pizza  Chicken   \n",
       "4    southw_ckn   The Southwest Chicken Pizza  Chicken   \n",
       "\n",
       "                                         ingredients  \n",
       "0  Barbecued Chicken, Red Peppers, Green Peppers,...  \n",
       "1  Chicken, Artichoke, Spinach, Garlic, Jalapeno ...  \n",
       "2  Chicken, Red Onions, Red Peppers, Mushrooms, A...  \n",
       "3  Chicken, Tomatoes, Red Peppers, Spinach, Garli...  \n",
       "4  Chicken, Tomatoes, Red Peppers, Red Onions, Ja...  "
      ]
     },
     "execution_count": 5,
     "metadata": {},
     "output_type": "execute_result"
    }
   ],
   "source": [
    "pizza_types.head() # preview of pizza types"
   ]
  },
  {
   "cell_type": "markdown",
   "id": "2aab03a7-0fdb-4a22-94fa-d0d6eb18111c",
   "metadata": {},
   "source": [
    "## 🔗 Merging of the datasets"
   ]
  },
  {
   "cell_type": "code",
   "execution_count": 6,
   "id": "98746692-4fcc-42c2-bd61-f049b2c7e155",
   "metadata": {},
   "outputs": [],
   "source": [
    "# Merging order_details with pizzas to get price\n",
    "details_prices = pd.merge(order_details, pizzas, on=\"pizza_id\")\n",
    "\n",
    "# Merging with orders to get order date/time\n",
    "full_data = pd.merge(details_prices, orders, on=\"order_id\")\n",
    "\n",
    "# Merge with pizza_types to get pizza category and ingredients\n",
    "full_data = pd.merge(full_data, pizza_types, on=\"pizza_type_id\") \n",
    "\n",
    "# convert date/time columns\n",
    "full_data[\"data\"] = pd.to_datetime(full_data[\"date\"])\n",
    "full_data[\"time\"] = pd.to_datetime(full_data[\"time\"], format=\"%H:%M:%S\").dt.time"
   ]
  },
  {
   "cell_type": "code",
   "execution_count": 7,
   "id": "3cacf4c5-d92f-42d0-ace8-fd6015f95abc",
   "metadata": {},
   "outputs": [
    {
     "data": {
      "text/html": [
       "<div>\n",
       "<style scoped>\n",
       "    .dataframe tbody tr th:only-of-type {\n",
       "        vertical-align: middle;\n",
       "    }\n",
       "\n",
       "    .dataframe tbody tr th {\n",
       "        vertical-align: top;\n",
       "    }\n",
       "\n",
       "    .dataframe thead th {\n",
       "        text-align: right;\n",
       "    }\n",
       "</style>\n",
       "<table border=\"1\" class=\"dataframe\">\n",
       "  <thead>\n",
       "    <tr style=\"text-align: right;\">\n",
       "      <th></th>\n",
       "      <th>order_details_id</th>\n",
       "      <th>order_id</th>\n",
       "      <th>pizza_id</th>\n",
       "      <th>quantity</th>\n",
       "      <th>pizza_type_id</th>\n",
       "      <th>size</th>\n",
       "      <th>price</th>\n",
       "      <th>date</th>\n",
       "      <th>time</th>\n",
       "      <th>name</th>\n",
       "      <th>category</th>\n",
       "      <th>ingredients</th>\n",
       "      <th>data</th>\n",
       "    </tr>\n",
       "  </thead>\n",
       "  <tbody>\n",
       "    <tr>\n",
       "      <th>0</th>\n",
       "      <td>1</td>\n",
       "      <td>1</td>\n",
       "      <td>hawaiian_m</td>\n",
       "      <td>1</td>\n",
       "      <td>hawaiian</td>\n",
       "      <td>M</td>\n",
       "      <td>13.25</td>\n",
       "      <td>2015-01-01</td>\n",
       "      <td>11:38:36</td>\n",
       "      <td>The Hawaiian Pizza</td>\n",
       "      <td>Classic</td>\n",
       "      <td>Sliced Ham, Pineapple, Mozzarella Cheese</td>\n",
       "      <td>2015-01-01</td>\n",
       "    </tr>\n",
       "    <tr>\n",
       "      <th>1</th>\n",
       "      <td>2</td>\n",
       "      <td>2</td>\n",
       "      <td>classic_dlx_m</td>\n",
       "      <td>1</td>\n",
       "      <td>classic_dlx</td>\n",
       "      <td>M</td>\n",
       "      <td>16.00</td>\n",
       "      <td>2015-01-01</td>\n",
       "      <td>11:57:40</td>\n",
       "      <td>The Classic Deluxe Pizza</td>\n",
       "      <td>Classic</td>\n",
       "      <td>Pepperoni, Mushrooms, Red Onions, Red Peppers,...</td>\n",
       "      <td>2015-01-01</td>\n",
       "    </tr>\n",
       "    <tr>\n",
       "      <th>2</th>\n",
       "      <td>3</td>\n",
       "      <td>2</td>\n",
       "      <td>five_cheese_l</td>\n",
       "      <td>1</td>\n",
       "      <td>five_cheese</td>\n",
       "      <td>L</td>\n",
       "      <td>18.50</td>\n",
       "      <td>2015-01-01</td>\n",
       "      <td>11:57:40</td>\n",
       "      <td>The Five Cheese Pizza</td>\n",
       "      <td>Veggie</td>\n",
       "      <td>Mozzarella Cheese, Provolone Cheese, Smoked Go...</td>\n",
       "      <td>2015-01-01</td>\n",
       "    </tr>\n",
       "    <tr>\n",
       "      <th>3</th>\n",
       "      <td>4</td>\n",
       "      <td>2</td>\n",
       "      <td>ital_supr_l</td>\n",
       "      <td>1</td>\n",
       "      <td>ital_supr</td>\n",
       "      <td>L</td>\n",
       "      <td>20.75</td>\n",
       "      <td>2015-01-01</td>\n",
       "      <td>11:57:40</td>\n",
       "      <td>The Italian Supreme Pizza</td>\n",
       "      <td>Supreme</td>\n",
       "      <td>Calabrese Salami, Capocollo, Tomatoes, Red Oni...</td>\n",
       "      <td>2015-01-01</td>\n",
       "    </tr>\n",
       "    <tr>\n",
       "      <th>4</th>\n",
       "      <td>5</td>\n",
       "      <td>2</td>\n",
       "      <td>mexicana_m</td>\n",
       "      <td>1</td>\n",
       "      <td>mexicana</td>\n",
       "      <td>M</td>\n",
       "      <td>16.00</td>\n",
       "      <td>2015-01-01</td>\n",
       "      <td>11:57:40</td>\n",
       "      <td>The Mexicana Pizza</td>\n",
       "      <td>Veggie</td>\n",
       "      <td>Tomatoes, Red Peppers, Jalapeno Peppers, Red O...</td>\n",
       "      <td>2015-01-01</td>\n",
       "    </tr>\n",
       "  </tbody>\n",
       "</table>\n",
       "</div>"
      ],
      "text/plain": [
       "   order_details_id  order_id       pizza_id  quantity pizza_type_id size  \\\n",
       "0                 1         1     hawaiian_m         1      hawaiian    M   \n",
       "1                 2         2  classic_dlx_m         1   classic_dlx    M   \n",
       "2                 3         2  five_cheese_l         1   five_cheese    L   \n",
       "3                 4         2    ital_supr_l         1     ital_supr    L   \n",
       "4                 5         2     mexicana_m         1      mexicana    M   \n",
       "\n",
       "   price        date      time                       name category  \\\n",
       "0  13.25  2015-01-01  11:38:36         The Hawaiian Pizza  Classic   \n",
       "1  16.00  2015-01-01  11:57:40   The Classic Deluxe Pizza  Classic   \n",
       "2  18.50  2015-01-01  11:57:40      The Five Cheese Pizza   Veggie   \n",
       "3  20.75  2015-01-01  11:57:40  The Italian Supreme Pizza  Supreme   \n",
       "4  16.00  2015-01-01  11:57:40         The Mexicana Pizza   Veggie   \n",
       "\n",
       "                                         ingredients       data  \n",
       "0           Sliced Ham, Pineapple, Mozzarella Cheese 2015-01-01  \n",
       "1  Pepperoni, Mushrooms, Red Onions, Red Peppers,... 2015-01-01  \n",
       "2  Mozzarella Cheese, Provolone Cheese, Smoked Go... 2015-01-01  \n",
       "3  Calabrese Salami, Capocollo, Tomatoes, Red Oni... 2015-01-01  \n",
       "4  Tomatoes, Red Peppers, Jalapeno Peppers, Red O... 2015-01-01  "
      ]
     },
     "execution_count": 7,
     "metadata": {},
     "output_type": "execute_result"
    }
   ],
   "source": [
    "full_data.head() # confriming the merged datasets"
   ]
  },
  {
   "cell_type": "code",
   "execution_count": 8,
   "id": "d47a8c40-dc93-4882-a4d2-4de456d88077",
   "metadata": {},
   "outputs": [
    {
     "data": {
      "text/plain": [
       "0"
      ]
     },
     "execution_count": 8,
     "metadata": {},
     "output_type": "execute_result"
    }
   ],
   "source": [
    "full_data.duplicated().sum() # checking for duplicates"
   ]
  },
  {
   "cell_type": "code",
   "execution_count": 9,
   "id": "afc2f07f-7968-46f2-b511-fd4d6eca3330",
   "metadata": {},
   "outputs": [
    {
     "name": "stdout",
     "output_type": "stream",
     "text": [
      "<class 'pandas.core.frame.DataFrame'>\n",
      "RangeIndex: 48620 entries, 0 to 48619\n",
      "Data columns (total 13 columns):\n",
      " #   Column            Non-Null Count  Dtype         \n",
      "---  ------            --------------  -----         \n",
      " 0   order_details_id  48620 non-null  int64         \n",
      " 1   order_id          48620 non-null  int64         \n",
      " 2   pizza_id          48620 non-null  object        \n",
      " 3   quantity          48620 non-null  int64         \n",
      " 4   pizza_type_id     48620 non-null  object        \n",
      " 5   size              48620 non-null  object        \n",
      " 6   price             48620 non-null  float64       \n",
      " 7   date              48620 non-null  object        \n",
      " 8   time              48620 non-null  object        \n",
      " 9   name              48620 non-null  object        \n",
      " 10  category          48620 non-null  object        \n",
      " 11  ingredients       48620 non-null  object        \n",
      " 12  data              48620 non-null  datetime64[ns]\n",
      "dtypes: datetime64[ns](1), float64(1), int64(3), object(8)\n",
      "memory usage: 4.8+ MB\n"
     ]
    }
   ],
   "source": [
    "full_data.info() # confirming appropriate data types "
   ]
  },
  {
   "cell_type": "markdown",
   "id": "bb279537-97de-4b53-a88a-3b175accb4b3",
   "metadata": {},
   "source": [
    "# Recommended analysis answers"
   ]
  },
  {
   "cell_type": "markdown",
   "id": "352d6d80-ac62-4aa9-bd3c-6827ec4b5f90",
   "metadata": {},
   "source": [
    "## 1.Total revenue/sales"
   ]
  },
  {
   "cell_type": "code",
   "execution_count": 10,
   "id": "1ed236e8-89c1-4453-8abb-76d6f06ee0e5",
   "metadata": {},
   "outputs": [
    {
     "data": {
      "text/plain": [
       "817860.05"
      ]
     },
     "execution_count": 10,
     "metadata": {},
     "output_type": "execute_result"
    }
   ],
   "source": [
    "full_data[\"revenue\"] = full_data[\"price\"] * full_data[\"quantity\"]\n",
    "total_revenue = full_data[\"revenue\"].sum()\n",
    "total_revenue"
   ]
  },
  {
   "cell_type": "markdown",
   "id": "1037b750-963c-4c9e-97bd-eec366a04b68",
   "metadata": {},
   "source": [
    "#### Insight: The total revenue generated over the year is $817860.05, indicating the overall financial performance of the pizza place"
   ]
  },
  {
   "cell_type": "markdown",
   "id": "917347bb-aa16-40ea-bd81-920008d56028",
   "metadata": {},
   "source": [
    "## 2.Total quantity sold"
   ]
  },
  {
   "cell_type": "code",
   "execution_count": 11,
   "id": "b83b5491-6abc-47cd-8f04-fd70b0fc8d07",
   "metadata": {},
   "outputs": [
    {
     "data": {
      "text/plain": [
       "49574"
      ]
     },
     "execution_count": 11,
     "metadata": {},
     "output_type": "execute_result"
    }
   ],
   "source": [
    "total_quantity = full_data[\"quantity\"].sum()\n",
    "total_quantity"
   ]
  },
  {
   "cell_type": "markdown",
   "id": "ef67085b-4c40-42d5-aa64-cb1356b08559",
   "metadata": {},
   "source": [
    "#### Insight: A total of 49574 pizzas were sold throughout the year, reflecting strong customer demand."
   ]
  },
  {
   "cell_type": "markdown",
   "id": "6aec7d70-49c0-4903-b136-0c47f7c60e3c",
   "metadata": {},
   "source": [
    "## 3.Total number of orders"
   ]
  },
  {
   "cell_type": "code",
   "execution_count": 12,
   "id": "12854bbd-4ce2-4b8a-bc0d-ab87fb50091a",
   "metadata": {},
   "outputs": [
    {
     "data": {
      "text/plain": [
       "21350"
      ]
     },
     "execution_count": 12,
     "metadata": {},
     "output_type": "execute_result"
    }
   ],
   "source": [
    "total_orders = full_data[\"order_id\"].nunique()\n",
    "total_orders"
   ]
  },
  {
   "cell_type": "markdown",
   "id": "dba57301-22d2-4ba8-a0ab-5266fa2941b1",
   "metadata": {},
   "source": [
    "#### Insight: A total of 21,350 orders were placed throughtout the year."
   ]
  },
  {
   "cell_type": "markdown",
   "id": "a372fae8-5c64-4614-9cad-cc5028b5ad06",
   "metadata": {},
   "source": [
    "## 4.Number of pizza types"
   ]
  },
  {
   "cell_type": "code",
   "execution_count": 13,
   "id": "8fe791d6-5c31-4431-95a0-b3a4804e5824",
   "metadata": {},
   "outputs": [
    {
     "data": {
      "text/plain": [
       "32"
      ]
     },
     "execution_count": 13,
     "metadata": {},
     "output_type": "execute_result"
    }
   ],
   "source": [
    "pizza_types_count = full_data[\"pizza_type_id\"].nunique()\n",
    "pizza_types_count"
   ]
  },
  {
   "cell_type": "markdown",
   "id": "47019494-a860-453a-b2c3-aab8fd41329a",
   "metadata": {},
   "source": [
    "#### Insight: The menu consists of 32 different pizza types, offering a good variety for customer preferences"
   ]
  },
  {
   "cell_type": "markdown",
   "id": "be41334c-328b-4831-9131-b9a90974a6af",
   "metadata": {},
   "source": [
    "## 5.Average price  "
   ]
  },
  {
   "cell_type": "code",
   "execution_count": 14,
   "id": "7702d50a-2bf7-414c-b168-e30c84dcfde6",
   "metadata": {},
   "outputs": [
    {
     "data": {
      "text/plain": [
       "16.494132044426163"
      ]
     },
     "execution_count": 14,
     "metadata": {},
     "output_type": "execute_result"
    }
   ],
   "source": [
    "average_price = full_data[\"price\"].mean()\n",
    "average_price "
   ]
  },
  {
   "cell_type": "markdown",
   "id": "7a323ffc-4096-4a76-ac1f-a12656c2530c",
   "metadata": {},
   "source": [
    "#### Insight: The average price of a pizza is around $16.49, suggesting mid-range pricing that is likely affordable for many customers."
   ]
  },
  {
   "cell_type": "markdown",
   "id": "aed08582-cbc1-422c-beeb-9e4516b8af73",
   "metadata": {},
   "source": [
    "## 6. Peak sales hours "
   ]
  },
  {
   "cell_type": "code",
   "execution_count": 17,
   "id": "71b166af-c079-4458-893d-409f0b67ea71",
   "metadata": {},
   "outputs": [
    {
     "data": {
      "image/png": "[encoded data removed]",
      "text/plain": [
       "<Figure size 1000x600 with 1 Axes>"
      ]
     },
     "metadata": {},
     "output_type": "display_data"
    }
   ],
   "source": [
    "# converting time and extracting hour\n",
    "orders[\"time\"] = pd.to_datetime(orders[\"time\"], format=\"%H:%M:%S\")\n",
    "orders[\"hour\"] = orders[\"time\"].dt.hour\n",
    "\n",
    "# plot\n",
    "plt.figure(figsize=(10, 6)) # size of the chart\n",
    "orders[\"hour\"].value_counts().sort_index().plot(kind=\"bar\", color=\"orange\")\n",
    "plt.title(\"Peak Hours of Sales\")\n",
    "plt.xlabel(\"Hour of the Day\")\n",
    "plt.ylabel(\"Number of Orders\")\n",
    "\n",
    "plt.show()"
   ]
  },
  {
   "cell_type": "markdown",
   "id": "11f97769-b0b5-4012-94a7-93e03ae41ec5",
   "metadata": {},
   "source": [
    "#### Insight:\n",
    "#### Sales peaked between 12 PM and 1 PM, showing lunch hours are the busiest. "
   ]
  },
  {
   "cell_type": "markdown",
   "id": "64ebde0a-6879-4f67-ae0e-cda97385e971",
   "metadata": {},
   "source": [
    "## 7. Sales by day of the week"
   ]
  },
  {
   "cell_type": "code",
   "execution_count": 18,
   "id": "94f0fcab-a7a2-48cd-a31b-15f072ab8a2c",
   "metadata": {},
   "outputs": [
    {
     "data": {
      "text/html": [
       "<div>\n",
       "<style scoped>\n",
       "    .dataframe tbody tr th:only-of-type {\n",
       "        vertical-align: middle;\n",
       "    }\n",
       "\n",
       "    .dataframe tbody tr th {\n",
       "        vertical-align: top;\n",
       "    }\n",
       "\n",
       "    .dataframe thead th {\n",
       "        text-align: right;\n",
       "    }\n",
       "</style>\n",
       "<table border=\"1\" class=\"dataframe\">\n",
       "  <thead>\n",
       "    <tr style=\"text-align: right;\">\n",
       "      <th></th>\n",
       "      <th>day_of_week</th>\n",
       "      <th>revenue</th>\n",
       "    </tr>\n",
       "  </thead>\n",
       "  <tbody>\n",
       "    <tr>\n",
       "      <th>0</th>\n",
       "      <td>Friday</td>\n",
       "      <td>136073.90</td>\n",
       "    </tr>\n",
       "    <tr>\n",
       "      <th>1</th>\n",
       "      <td>Thursday</td>\n",
       "      <td>123528.50</td>\n",
       "    </tr>\n",
       "    <tr>\n",
       "      <th>2</th>\n",
       "      <td>Saturday</td>\n",
       "      <td>123182.40</td>\n",
       "    </tr>\n",
       "    <tr>\n",
       "      <th>3</th>\n",
       "      <td>Wednesday</td>\n",
       "      <td>114408.40</td>\n",
       "    </tr>\n",
       "    <tr>\n",
       "      <th>4</th>\n",
       "      <td>Tuesday</td>\n",
       "      <td>114133.80</td>\n",
       "    </tr>\n",
       "    <tr>\n",
       "      <th>5</th>\n",
       "      <td>Monday</td>\n",
       "      <td>107329.55</td>\n",
       "    </tr>\n",
       "    <tr>\n",
       "      <th>6</th>\n",
       "      <td>Sunday</td>\n",
       "      <td>99203.50</td>\n",
       "    </tr>\n",
       "  </tbody>\n",
       "</table>\n",
       "</div>"
      ],
      "text/plain": [
       "  day_of_week    revenue\n",
       "0      Friday  136073.90\n",
       "1    Thursday  123528.50\n",
       "2    Saturday  123182.40\n",
       "3   Wednesday  114408.40\n",
       "4     Tuesday  114133.80\n",
       "5      Monday  107329.55\n",
       "6      Sunday   99203.50"
      ]
     },
     "execution_count": 18,
     "metadata": {},
     "output_type": "execute_result"
    }
   ],
   "source": [
    "# Convert 'date' column to datetime if it isn't already\n",
    "full_data['date'] = pd.to_datetime(full_data['date'])\n",
    "\n",
    "# Extract day of the week\n",
    "full_data[\"day_of_week\"] = full_data[\"date\"].dt.day_name()\n",
    "\n",
    "# Group and analyze sales by day\n",
    "full_data.groupby(\"day_of_week\")[\"revenue\"].sum().sort_values(ascending=False).reset_index()\n"
   ]
  },
  {
   "cell_type": "code",
   "execution_count": 19,
   "id": "dee0a11f-3899-44f2-979e-d29265a17fdd",
   "metadata": {},
   "outputs": [
    {
     "data": {
      "image/png": "[encoded data removed]",
      "text/plain": [
       "<Figure size 800x500 with 1 Axes>"
      ]
     },
     "metadata": {},
     "output_type": "display_data"
    }
   ],
   "source": [
    "# plot\n",
    "day_order = ['Monday', 'Tuesday', 'Wednesday', 'Thursday', 'Friday', 'Saturday', 'Sunday']\n",
    "sales_by_day = full_data.groupby(\"day_of_week\")[\"revenue\"].sum().reindex(day_order)\n",
    "sales_by_day.plot(kind=\"bar\", color=\"seagreen\", figsize=(8,5))\n",
    "plt.title(\"Total Sales by Day of the Week\")\n",
    "plt.xlabel(\"Day of the Week\")\n",
    "plt.ylabel(\"Total Revenue\")\n",
    "plt.xticks(rotation=45)\n",
    "\n",
    "plt.show()"
   ]
  },
  {
   "cell_type": "code",
   "execution_count": 20,
   "id": "490b2e62-f631-4b70-856a-8da3c3edaab5",
   "metadata": {},
   "outputs": [
    {
     "data": {
      "text/plain": [
       "'Friday'"
      ]
     },
     "execution_count": 20,
     "metadata": {},
     "output_type": "execute_result"
    }
   ],
   "source": [
    "# day of the week with the most sales\n",
    "total_sales_by_day = full_data.groupby(\"day_of_week\")[\"revenue\"].sum()\n",
    "top_day = total_sales_by_day.idxmax()\n",
    "top_day"
   ]
  },
  {
   "cell_type": "markdown",
   "id": "308048b3-3e66-47c5-b59f-b39709032bc3",
   "metadata": {},
   "source": [
    "#### Insight: \n",
    "#### Friday recorded the highest sales among all the days of the week, indicating it is the most profitable day for the pizza place."
   ]
  },
  {
   "cell_type": "markdown",
   "id": "8ec88854-899b-40bd-9d28-5584c659554c",
   "metadata": {},
   "source": [
    "## 8. Top 5 bestselling pizzas"
   ]
  },
  {
   "cell_type": "code",
   "execution_count": 21,
   "id": "df74e594-ec16-4b23-afb9-c8167a134d84",
   "metadata": {},
   "outputs": [
    {
     "data": {
      "text/html": [
       "<div>\n",
       "<style scoped>\n",
       "    .dataframe tbody tr th:only-of-type {\n",
       "        vertical-align: middle;\n",
       "    }\n",
       "\n",
       "    .dataframe tbody tr th {\n",
       "        vertical-align: top;\n",
       "    }\n",
       "\n",
       "    .dataframe thead th {\n",
       "        text-align: right;\n",
       "    }\n",
       "</style>\n",
       "<table border=\"1\" class=\"dataframe\">\n",
       "  <thead>\n",
       "    <tr style=\"text-align: right;\">\n",
       "      <th></th>\n",
       "      <th>pizza_type_id</th>\n",
       "      <th>quantity</th>\n",
       "    </tr>\n",
       "  </thead>\n",
       "  <tbody>\n",
       "    <tr>\n",
       "      <th>0</th>\n",
       "      <td>classic_dlx</td>\n",
       "      <td>2453</td>\n",
       "    </tr>\n",
       "    <tr>\n",
       "      <th>1</th>\n",
       "      <td>bbq_ckn</td>\n",
       "      <td>2432</td>\n",
       "    </tr>\n",
       "    <tr>\n",
       "      <th>2</th>\n",
       "      <td>hawaiian</td>\n",
       "      <td>2422</td>\n",
       "    </tr>\n",
       "    <tr>\n",
       "      <th>3</th>\n",
       "      <td>pepperoni</td>\n",
       "      <td>2418</td>\n",
       "    </tr>\n",
       "    <tr>\n",
       "      <th>4</th>\n",
       "      <td>thai_ckn</td>\n",
       "      <td>2371</td>\n",
       "    </tr>\n",
       "  </tbody>\n",
       "</table>\n",
       "</div>"
      ],
      "text/plain": [
       "  pizza_type_id  quantity\n",
       "0   classic_dlx      2453\n",
       "1       bbq_ckn      2432\n",
       "2      hawaiian      2422\n",
       "3     pepperoni      2418\n",
       "4      thai_ckn      2371"
      ]
     },
     "execution_count": 21,
     "metadata": {},
     "output_type": "execute_result"
    }
   ],
   "source": [
    "top_5 = full_data.groupby(\"pizza_type_id\")[\"quantity\"].sum().sort_values(ascending=False).head(5).reset_index()\n",
    "\n",
    "top_5"
   ]
  },
  {
   "cell_type": "code",
   "execution_count": 22,
   "id": "06769048-8d7b-4bef-b330-160db9ca5a40",
   "metadata": {},
   "outputs": [
    {
     "data": {
      "image/png": "[encoded data removed]",
      "text/plain": [
       "<Figure size 640x480 with 1 Axes>"
      ]
     },
     "metadata": {},
     "output_type": "display_data"
    }
   ],
   "source": [
    "pizza_type_id = ['classic_dlx', 'bbq_ckn', 'hawaiian', 'pepperoni', 'thai_ckn'] # Define pizza types in correct order\n",
    "top_5 = full_data.groupby(\"pizza_type_id\")[\"quantity\"].sum().reindex(pizza_type_id) # Group and reorder data\n",
    "plt.barh(top_5.index, top_5.values, color=\"tomato\") # plot\n",
    "plt.title(\"Top 5 Bestselling Pizzas\")\n",
    "plt.xlabel(\"Quantity Sold\")\n",
    "plt.ylabel(\"Pizza Type\")\n",
    "\n",
    "plt.show()"
   ]
  },
  {
   "cell_type": "markdown",
   "id": "9a413c39-2792-4e28-9c94-63e0af29406d",
   "metadata": {},
   "source": [
    "#### Insight: \n",
    "#### The top 5 pizzas that dominated the sales are bbq_ckn, hawaiian, pepperoni, thai_ckn, indicating customer favorites that drive most of the revenue."
   ]
  },
  {
   "cell_type": "markdown",
   "id": "1081e9f0-f975-4dfe-a4e0-d9205061f49c",
   "metadata": {},
   "source": [
    "## 9. Monthly sales trend "
   ]
  },
  {
   "cell_type": "code",
   "execution_count": 23,
   "id": "1412e1f1-7342-4795-aaca-b2d6ae08557a",
   "metadata": {},
   "outputs": [
    {
     "data": {
      "text/html": [
       "<div>\n",
       "<style scoped>\n",
       "    .dataframe tbody tr th:only-of-type {\n",
       "        vertical-align: middle;\n",
       "    }\n",
       "\n",
       "    .dataframe tbody tr th {\n",
       "        vertical-align: top;\n",
       "    }\n",
       "\n",
       "    .dataframe thead th {\n",
       "        text-align: right;\n",
       "    }\n",
       "</style>\n",
       "<table border=\"1\" class=\"dataframe\">\n",
       "  <thead>\n",
       "    <tr style=\"text-align: right;\">\n",
       "      <th></th>\n",
       "      <th>month</th>\n",
       "      <th>total_revenue</th>\n",
       "      <th>month_num</th>\n",
       "    </tr>\n",
       "  </thead>\n",
       "  <tbody>\n",
       "    <tr>\n",
       "      <th>4</th>\n",
       "      <td>January</td>\n",
       "      <td>69793.30</td>\n",
       "      <td>1</td>\n",
       "    </tr>\n",
       "    <tr>\n",
       "      <th>3</th>\n",
       "      <td>February</td>\n",
       "      <td>65159.60</td>\n",
       "      <td>2</td>\n",
       "    </tr>\n",
       "    <tr>\n",
       "      <th>7</th>\n",
       "      <td>March</td>\n",
       "      <td>70397.10</td>\n",
       "      <td>3</td>\n",
       "    </tr>\n",
       "    <tr>\n",
       "      <th>0</th>\n",
       "      <td>April</td>\n",
       "      <td>68736.80</td>\n",
       "      <td>4</td>\n",
       "    </tr>\n",
       "    <tr>\n",
       "      <th>8</th>\n",
       "      <td>May</td>\n",
       "      <td>71402.75</td>\n",
       "      <td>5</td>\n",
       "    </tr>\n",
       "    <tr>\n",
       "      <th>6</th>\n",
       "      <td>June</td>\n",
       "      <td>68230.20</td>\n",
       "      <td>6</td>\n",
       "    </tr>\n",
       "    <tr>\n",
       "      <th>5</th>\n",
       "      <td>July</td>\n",
       "      <td>72557.90</td>\n",
       "      <td>7</td>\n",
       "    </tr>\n",
       "    <tr>\n",
       "      <th>1</th>\n",
       "      <td>August</td>\n",
       "      <td>68278.25</td>\n",
       "      <td>8</td>\n",
       "    </tr>\n",
       "    <tr>\n",
       "      <th>11</th>\n",
       "      <td>September</td>\n",
       "      <td>64180.05</td>\n",
       "      <td>9</td>\n",
       "    </tr>\n",
       "    <tr>\n",
       "      <th>10</th>\n",
       "      <td>October</td>\n",
       "      <td>64027.60</td>\n",
       "      <td>10</td>\n",
       "    </tr>\n",
       "    <tr>\n",
       "      <th>9</th>\n",
       "      <td>November</td>\n",
       "      <td>70395.35</td>\n",
       "      <td>11</td>\n",
       "    </tr>\n",
       "    <tr>\n",
       "      <th>2</th>\n",
       "      <td>December</td>\n",
       "      <td>64701.15</td>\n",
       "      <td>12</td>\n",
       "    </tr>\n",
       "  </tbody>\n",
       "</table>\n",
       "</div>"
      ],
      "text/plain": [
       "        month  total_revenue  month_num\n",
       "4     January       69793.30          1\n",
       "3    February       65159.60          2\n",
       "7       March       70397.10          3\n",
       "0       April       68736.80          4\n",
       "8         May       71402.75          5\n",
       "6        June       68230.20          6\n",
       "5        July       72557.90          7\n",
       "1      August       68278.25          8\n",
       "11  September       64180.05          9\n",
       "10    October       64027.60         10\n",
       "9    November       70395.35         11\n",
       "2    December       64701.15         12"
      ]
     },
     "execution_count": 23,
     "metadata": {},
     "output_type": "execute_result"
    }
   ],
   "source": [
    "monthly_sales = full_data.groupby(full_data['date'].dt.strftime('%B'))['revenue'].sum().reset_index()\n",
    "monthly_sales.columns = ['month', 'total_revenue']\n",
    "monthly_sales['month_num'] = pd.to_datetime(monthly_sales['month'], format='%B').dt.month # Add month number for sorting\n",
    "monthly_sales = monthly_sales.sort_values('month_num') # Sort by month number\n",
    "\n",
    "monthly_sales"
   ]
  },
  {
   "cell_type": "code",
   "execution_count": 24,
   "id": "95fe51c8-251d-4b0d-94ed-6702f5830682",
   "metadata": {},
   "outputs": [
    {
     "data": {
      "image/png": "[encoded data removed]",
      "text/plain": [
       "<Figure size 640x480 with 1 Axes>"
      ]
     },
     "metadata": {},
     "output_type": "display_data"
    }
   ],
   "source": [
    "# Plot\n",
    "plt.plot(monthly_sales['month'], monthly_sales['total_revenue'], color='navy', marker='o')\n",
    "plt.title(\"Monthly Sales Trend\")\n",
    "plt.xlabel(\"Month\")\n",
    "plt.ylabel(\"Total Revenue\")\n",
    "plt.xticks(rotation=45)\n",
    "plt.grid(True, linestyle='--', alpha=0.5)\n",
    "plt.tight_layout()\n",
    "\n",
    "plt.show()"
   ]
  },
  {
   "cell_type": "markdown",
   "id": "5bf4000c-3774-424f-9061-415ce94031e1",
   "metadata": {},
   "source": [
    "#### Insight: \n",
    "\n",
    "#### the monthly sales trend show moderate fluctuations, with peak in july. No clear rise toward year-end suggesting holidays may not significantly impact overall sales  "
   ]
  },
  {
   "cell_type": "markdown",
   "id": "39c581fe-bcf3-4003-96d2-2799da126c5d",
   "metadata": {},
   "source": [
    "## 10.Least performing pizzas"
   ]
  },
  {
   "cell_type": "code",
   "execution_count": 25,
   "id": "7c546632-1332-4221-ae2b-8e41a2c619eb",
   "metadata": {},
   "outputs": [
    {
     "data": {
      "text/html": [
       "<div>\n",
       "<style scoped>\n",
       "    .dataframe tbody tr th:only-of-type {\n",
       "        vertical-align: middle;\n",
       "    }\n",
       "\n",
       "    .dataframe tbody tr th {\n",
       "        vertical-align: top;\n",
       "    }\n",
       "\n",
       "    .dataframe thead th {\n",
       "        text-align: right;\n",
       "    }\n",
       "</style>\n",
       "<table border=\"1\" class=\"dataframe\">\n",
       "  <thead>\n",
       "    <tr style=\"text-align: right;\">\n",
       "      <th></th>\n",
       "      <th>pizza_type_id</th>\n",
       "      <th>quantity</th>\n",
       "    </tr>\n",
       "  </thead>\n",
       "  <tbody>\n",
       "    <tr>\n",
       "      <th>0</th>\n",
       "      <td>brie_carre</td>\n",
       "      <td>490</td>\n",
       "    </tr>\n",
       "    <tr>\n",
       "      <th>1</th>\n",
       "      <td>mediterraneo</td>\n",
       "      <td>934</td>\n",
       "    </tr>\n",
       "    <tr>\n",
       "      <th>2</th>\n",
       "      <td>calabrese</td>\n",
       "      <td>937</td>\n",
       "    </tr>\n",
       "    <tr>\n",
       "      <th>3</th>\n",
       "      <td>spinach_supr</td>\n",
       "      <td>950</td>\n",
       "    </tr>\n",
       "    <tr>\n",
       "      <th>4</th>\n",
       "      <td>soppressata</td>\n",
       "      <td>961</td>\n",
       "    </tr>\n",
       "  </tbody>\n",
       "</table>\n",
       "</div>"
      ],
      "text/plain": [
       "  pizza_type_id  quantity\n",
       "0    brie_carre       490\n",
       "1  mediterraneo       934\n",
       "2     calabrese       937\n",
       "3  spinach_supr       950\n",
       "4   soppressata       961"
      ]
     },
     "execution_count": 25,
     "metadata": {},
     "output_type": "execute_result"
    }
   ],
   "source": [
    "low_5 = full_data.groupby(\"pizza_type_id\")[\"quantity\"].sum().sort_values().head(5).reset_index()\n",
    "\n",
    "low_5"
   ]
  },
  {
   "cell_type": "code",
   "execution_count": 26,
   "id": "47a98e63-90a8-44bf-a8c2-65c5b61dbd93",
   "metadata": {},
   "outputs": [
    {
     "data": {
      "image/png": "[encoded data removed]",
      "text/plain": [
       "<Figure size 640x480 with 1 Axes>"
      ]
     },
     "metadata": {},
     "output_type": "display_data"
    }
   ],
   "source": [
    "plt.bar(low_5['pizza_type_id'], low_5['quantity'], color='slateblue')\n",
    "plt.title(\"Bottom 5 Performing Pizzas\")\n",
    "plt.xlabel(\"Pizza Type\")\n",
    "plt.ylabel(\"Quantity Sold\")\n",
    "plt.xticks(rotation=45)\n",
    "\n",
    "plt.show()"
   ]
  },
  {
   "cell_type": "markdown",
   "id": "938a7073-f5fa-4a3e-9263-a46da2468f6f",
   "metadata": {},
   "source": [
    "#### Insight: \n",
    "\n",
    "#### the brie_carre, mediterraneo, calabrese, spinach_supr and soppressata recorded the least performancing pizzas,suggesting they may be unpopular or need promotion."
   ]
  },
  {
   "cell_type": "code",
   "execution_count": null,
   "id": "b45229a2-e64d-4d65-9779-17f44d4d584d",
   "metadata": {},
   "outputs": [],
   "source": []
  }
 ],
 "metadata": {
  "kernelspec": {
   "display_name": "Python 3 (ipykernel)",
   "language": "python",
   "name": "python3"
  },
  "language_info": {
   "codemirror_mode": {
    "name": "ipython",
    "version": 3
   },
   "file_extension": ".py",
   "mimetype": "text/x-python",
   "name": "python",
   "nbconvert_exporter": "python",
   "pygments_lexer": "ipython3",
   "version": "3.12.7"
  }
 },
 "nbformat": 4,
 "nbformat_minor": 5
}
